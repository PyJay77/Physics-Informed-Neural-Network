{
 "cells": [
  {
   "cell_type": "markdown",
   "id": "a4bc9023-370b-44d9-b573-9f80c69d5717",
   "metadata": {},
   "source": [
    "# Physics Informed Neural Network\n",
    "## Solving 2D Unsteady Navier-Stokes Equations"
   ]
  },
  {
   "cell_type": "code",
   "execution_count": null,
   "id": "afcc1b20-f6a5-40e4-85d5-27f02b0ddf97",
   "metadata": {},
   "outputs": [],
   "source": [
    "import torch\n",
    "import math\n",
    "from points_generator_optimized import generator\n",
    "from model_unsteady_optimized import NS\n",
    "from loss_function_unsteady_optimized import Loss\n",
    "from model_optimized import PINN\n",
    "import numpy as np\n",
    "import matplotlib.pyplot as plt"
   ]
  },
  {
   "cell_type": "markdown",
   "id": "e02f5fce-44ab-45f7-abe2-9744c8aa1ac9",
   "metadata": {},
   "source": [
    "### Geometrical parameters"
   ]
  },
  {
   "cell_type": "code",
   "execution_count": null,
   "id": "9bc0a330-593b-4903-8610-7772e0dd44d2",
   "metadata": {},
   "outputs": [],
   "source": [
    "x_start = 0; x_end = 2.2   # x-length\n",
    "y_start = 0; y_end = 0.41  # y-lenght\n",
    "t_start = 0; t_end = 10    # t_lenght\n",
    "xc = 0.4; yc = 0.2; rr = 0.05  # circle-coordinates\n",
    "D = 2*rr\n",
    "rho = 1000  # density\n",
    "nu = 1e-4   # kinematic viscosity\n",
    "U_max = 0.2 # current maximum velocity\n",
    "n_interior = 1000  # interior points\n",
    "n_boundary = 200   # boundary points\n",
    "x_domain = torch.tensor([x_start,x_end])\n",
    "y_domain = torch.tensor([y_start,y_end])\n",
    "t_domain = torch.tensor([t_start,t_end])\n",
    "circle_coordinates = torch.tensor([xc,yc,rr])\n",
    "distance = torch.tensor([2 * rr])  # distance from the center for extra sampling\n",
    "properties = torch.tensor([rho,nu,U_max])\n",
    "U_old_max = torch.tensor([0.05])   # old maximum velocity\n",
    "number_intervals = torch.tensor([10])   # time intervals\n",
    "dt = (t_end - t_start) / number_intervals\n",
    "tau = 0.9\n",
    "time_parameters = torch.tensor([dt,tau])\n",
    "n_points = torch.tensor([n_interior,n_boundary])"
   ]
  },
  {
   "cell_type": "markdown",
   "id": "43827b84-a77e-4dfa-a415-ed8b2556494a",
   "metadata": {},
   "source": [
    "### Network parameters"
   ]
  },
  {
   "cell_type": "code",
   "execution_count": null,
   "id": "f8a9f1f4-3221-4d24-ad8a-e30e8c33debc",
   "metadata": {},
   "outputs": [],
   "source": [
    "device = 'cuda' if torch.cuda.is_available() else 'cpu'\n",
    "num_input = 3; num_output = 3; num_layers = 3; num_neurons = 30\n",
    "sigma_x = 10; sigma_y = 10; sigma_t = 1\n",
    "mu = 0.5; std = 0.1\n",
    "epsilon = 1\n",
    "lambda_frequency = 10\n",
    "alpha = 0.9\n",
    "\n",
    "network_parameters = torch.tensor([num_input,num_output,num_layers,num_neurons])\n",
    "fourier_features_parameters = torch.tensor([sigma_x,sigma_y,sigma_t])\n",
    "random_weight_initialization_parameters = torch.tensor([mu,std])\n",
    "other_hyperparameters = torch.tensor([epsilon,lambda_frequency,alpha])"
   ]
  },
  {
   "cell_type": "markdown",
   "id": "bc3f9265-02f2-4693-9d6e-c66aa8688638",
   "metadata": {},
   "source": [
    "### Importing previous model"
   ]
  },
  {
   "cell_type": "code",
   "execution_count": null,
   "id": "a96b3580-f9c9-4c18-bd9f-fc652a6b6269",
   "metadata": {},
   "outputs": [],
   "source": [
    "from pathlib import Path\n",
    "MODEL_LOAD_PATH = \"models/2D_steady_model_optimized.pth\"\n",
    "MODEL_SAVE_PATH = \"models/2D_unsteady_model_optimized.pth\""
   ]
  },
  {
   "cell_type": "code",
   "execution_count": null,
   "id": "69cc0b6d-eef2-41fe-9f91-89256c402ac6",
   "metadata": {},
   "outputs": [],
   "source": [
    "num_input_initial = 2; num_layers_initial = 3; num_neurons_initial = 256\n",
    "network_parameters_initial = torch.tensor([num_input_initial,num_output,num_layers_initial,num_neurons_initial])\n",
    "fourier_features_parameters_initial = torch.tensor([sigma_x,sigma_y])"
   ]
  },
  {
   "cell_type": "code",
   "execution_count": null,
   "id": "c93f46b9-4bb4-4ab1-a6a4-c1568f6d69d3",
   "metadata": {},
   "outputs": [],
   "source": [
    "pinn_initial = PINN(network_parameters_initial,\n",
    "                      fourier_features_parameters_initial,\n",
    "                      x_domain,\n",
    "                      y_domain,\n",
    "                      circle_coordinates,\n",
    "                      properties,\n",
    "                      random_weight_initialization_parameters,\n",
    "                      device)"
   ]
  },
  {
   "cell_type": "code",
   "execution_count": null,
   "id": "32f54591-3125-49d2-bad7-fc4c6184ef9f",
   "metadata": {},
   "outputs": [],
   "source": [
    "pinn_initial.load_state_dict(torch.load(f=MODEL_LOAD_PATH,map_location=device))"
   ]
  },
  {
   "cell_type": "code",
   "execution_count": null,
   "id": "b3c84158-dd36-4f2c-87a4-7b64aec05324",
   "metadata": {},
   "outputs": [],
   "source": [
    "n_slices = 500\n",
    "xx = torch.linspace(0,x_end/D,n_slices); yy = torch.linspace(0,y_end/D,n_slices)\n",
    "x_grid, y_grid = torch.meshgrid(xx,yy,indexing='xy')\n",
    "x_grid = x_grid.reshape(-1,1); y_grid = y_grid.reshape(-1,1)\n",
    "mask_tensor = (x_grid*D - xc)**2 + (y_grid*D - yc)**2 >= rr**2\n",
    "x_pinn = x_grid[mask_tensor].reshape(-1,1); y_pinn = y_grid[mask_tensor].reshape(-1,1)\n",
    "\n",
    "pinn_initial.eval()\n",
    "with torch.no_grad():\n",
    "    u0,v0,_ = pinn_initial(x_pinn.to(device),y_pinn.to(device))\n",
    "\n",
    "U = torch.full_like(x_grid,float('nan'))\n",
    "V = torch.full_like(x_grid,float('nan'))\n",
    "\n",
    "U[mask_tensor.squeeze()] = u0.to('cpu')\n",
    "V[mask_tensor.squeeze()] = v0.to('cpu')\n",
    "\n",
    "U = U.reshape(n_slices,n_slices) * U_old_max\n",
    "V = V.reshape(n_slices,n_slices) * U_old_max"
   ]
  },
  {
   "cell_type": "code",
   "execution_count": null,
   "id": "93159283-1a34-4516-94a9-305ca2f4bed6",
   "metadata": {},
   "outputs": [],
   "source": [
    "plt.figure(figsize=(24,16))\n",
    "im = plt.imshow(np.sqrt(U**2 + V**2), origin='lower', interpolation='nearest', extent=(0,x_end,0,y_end))\n",
    "# Colorbar sotto\n",
    "cbar = plt.colorbar(im, orientation='horizontal', pad=0.1)\n",
    "cbar.set_label(\"Velocità\")\n",
    "plt.title('U')\n",
    "plt.xlabel('x')\n",
    "plt.ylabel('y')\n",
    "plt.gca().set_aspect((20*D)/(25*D))\n",
    "plt.tight_layout()\n",
    "plt.show()"
   ]
  },
  {
   "cell_type": "markdown",
   "id": "b410aed9-b0fe-4157-8158-0d4fcd476414",
   "metadata": {},
   "source": [
    "### Initializing classes"
   ]
  },
  {
   "cell_type": "code",
   "execution_count": null,
   "id": "f2ac6ab0-faf6-4a8f-ab4e-f5c61e930507",
   "metadata": {},
   "outputs": [],
   "source": [
    "points_generator = generator(x_domain,\n",
    "                             y_domain,\n",
    "                             t_domain,\n",
    "                             circle_coordinates,\n",
    "                             distance,\n",
    "                             properties,\n",
    "                             number_intervals,\n",
    "                             n_points)"
   ]
  },
  {
   "cell_type": "code",
   "execution_count": null,
   "id": "4411aea1-5823-4d22-b1d0-067d295612ce",
   "metadata": {},
   "outputs": [],
   "source": [
    "pinn = NS(network_parameters,\n",
    "          fourier_features_parameters,\n",
    "          x_domain,\n",
    "          y_domain,\n",
    "          t_domain,\n",
    "          circle_coordinates,\n",
    "          properties,\n",
    "          random_weight_initialization_parameters,\n",
    "          device)"
   ]
  },
  {
   "cell_type": "code",
   "execution_count": null,
   "id": "2daac91e-7bcc-47a9-92ba-cb698adf5ad0",
   "metadata": {},
   "outputs": [],
   "source": [
    "loss_fn = Loss(x_domain,\n",
    "              y_domain,\n",
    "              t_domain,\n",
    "              circle_coordinates,\n",
    "              properties,\n",
    "              U_old_max,\n",
    "              time_parameters,\n",
    "              n_points,\n",
    "              number_intervals,\n",
    "              other_hyperparameters,\n",
    "              device)"
   ]
  },
  {
   "cell_type": "markdown",
   "id": "87f32748-8a09-43a8-ad8c-008c278511f0",
   "metadata": {},
   "source": [
    "### Chechk points"
   ]
  },
  {
   "cell_type": "code",
   "execution_count": null,
   "id": "074b0dbe-d3a2-4777-9990-f77a2b1acf01",
   "metadata": {},
   "outputs": [],
   "source": [
    "x_res, y_res, _ = points_generator.generate_interior_points()\n",
    "x_cir, y_cir, _ = points_generator.generate_circle_points()\n",
    "down,up,left,right = points_generator.generate_boundary_points()\n",
    "\n",
    "x_d = down[:,0]; y_d = down[:,1]\n",
    "x_u = up[:,0]; y_u = up[:,1]\n",
    "x_l = left[:,0]; y_l = left[:,1]\n",
    "x_r = right[:,0]; y_r = right[:,1]\n",
    "\n",
    "plt.figure(figsize=(20,10))\n",
    "plt.scatter(x_res,y_res,c='b',s=2,label='Domain')\n",
    "plt.scatter(x_cir,y_cir,c='r',s=2,label='Circle')\n",
    "plt.scatter(x_l,y_l,c='g',s=7,label='Boundary')\n",
    "plt.scatter(x_u,y_u,c='g',s=7,label='Boundary')\n",
    "plt.scatter(x_d,y_d,c='g',s=7,label='Boundary')\n",
    "plt.scatter(x_r,y_r,c='g',s=7,label='Boundary')\n",
    "# Imposto limiti assi\n",
    "plt.xlim(0, x_end/D)\n",
    "plt.ylim(0, y_end/D)\n",
    "# Imposto rapporto assi NON uguale\n",
    "plt.gca().set_aspect(1)\n",
    "plt.legend()\n",
    "plt.show()\n",
    "plt.show()"
   ]
  },
  {
   "cell_type": "markdown",
   "id": "57d32058-449c-4163-86cc-85db5ee8b7fd",
   "metadata": {},
   "source": [
    "### Initialing optimizer"
   ]
  },
  {
   "cell_type": "code",
   "execution_count": null,
   "id": "b47169e9-44af-4a9b-9696-a494ad258173",
   "metadata": {},
   "outputs": [],
   "source": [
    "optimizer = torch.optim.Adam(params=pinn.parameters(),lr=0.001)\n",
    "scheduler = torch.optim.lr_scheduler.StepLR(optimizer,1000, gamma=0.8)\n",
    "weights = torch.tensor([1,1,1,1,1,1,1,1,1,1,1])"
   ]
  },
  {
   "cell_type": "code",
   "execution_count": null,
   "id": "b46c9d60-711c-4b0b-bb4b-e120fd6862f1",
   "metadata": {},
   "outputs": [],
   "source": [
    "TOTAL_loss = []\n",
    "PDE_loss = []\n",
    "IC_loss = []\n",
    "BC_loss = []"
   ]
  },
  {
   "cell_type": "code",
   "execution_count": null,
   "id": "6375bb6f-562b-4e2d-becf-cc410fc2f4c5",
   "metadata": {},
   "outputs": [],
   "source": [
    "for epoch in range(1000):\n",
    "\n",
    "    pinn.train()\n",
    "    optimizer.zero_grad()\n",
    "    loss, loss_pde, loss_bc, loss_initial, weights = loss_fn(pinn,pinn_initial,weights,epoch,points_generator)\n",
    "    loss.backward()\n",
    "    optimizer.step()\n",
    "    scheduler.step()\n",
    "\n",
    "    TOTAL_loss.append(loss.item())\n",
    "    PDE_loss.append(loss_pde.item())\n",
    "    BC_loss.append(loss_bc.item())\n",
    "    IC_loss.append(loss_initial.item())\n",
    "\n",
    "    if epoch%10 ==0:\n",
    "      print(f'Epoch: {epoch} | TOTAL : {loss.item():.6f} | PDE: {loss_pde.item():.6f} | BC: {loss_bc.item():.6f} | IC: {loss_initial.item():.6f}  ')\n",
    "\n",
    "    if epoch%10 == 0 and epoch!=0:\n",
    "        pinn.eval()\n",
    "        with torch.no_grad():\n",
    "            u,v,p = pinn(x_pinn.to(device),y_pinn.to(device),torch.full_like(x_pinn,t_end/2,device=device))\n",
    "\n",
    "            U_unsteady = torch.full_like(x_grid,float('nan'))\n",
    "            V_unsteady = torch.full_like(x_grid,float('nan'))\n",
    "            \n",
    "            U_unsteady[mask_tensor.squeeze()] = u.to('cpu')\n",
    "            V_unsteady[mask_tensor.squeeze()] = v.to('cpu')\n",
    "            \n",
    "            U_plot = U_unsteady.reshape(n_slices,n_slices) * U_old_max\n",
    "            V_plot = V_unsteady.reshape(n_slices,n_slices) * U_old_max\n",
    "\n",
    "            plt.figure(figsize=(24,16))\n",
    "            im = plt.imshow(np.sqrt(U_plot**2 + V_plot**2), origin='lower', interpolation='nearest', extent=(0,x_end,0,y_end))\n",
    "            # Colorbar sotto\n",
    "            cbar = plt.colorbar(im, orientation='horizontal', pad=0.1)\n",
    "            cbar.set_label(\"Velocità\")\n",
    "            plt.title('U')\n",
    "            plt.xlabel('x')\n",
    "            plt.ylabel('y')\n",
    "            plt.gca().set_aspect((20*D)/(25*D))\n",
    "            plt.tight_layout()\n",
    "            plt.show()\n",
    "\n",
    "            # 3. Save the model state dict \n",
    "            print(f\"Saving model to: {MODEL_SAVE_PATH}\")\n",
    "            torch.save(obj=pinn.state_dict(), # only saving the state_dict() only saves the models learned parameters\n",
    "                       f=MODEL_SAVE_PATH)"
   ]
  },
  {
   "cell_type": "code",
   "execution_count": null,
   "id": "3d8c4684-4e34-4c70-9a54-379a7d2e1241",
   "metadata": {},
   "outputs": [],
   "source": []
  },
  {
   "cell_type": "code",
   "execution_count": null,
   "id": "53a49951-686f-456a-a2ad-e98346525742",
   "metadata": {},
   "outputs": [],
   "source": []
  },
  {
   "cell_type": "code",
   "execution_count": null,
   "id": "4dd3cad3-de0b-4e1d-8a83-2514ec8b256c",
   "metadata": {},
   "outputs": [],
   "source": []
  }
 ],
 "metadata": {
  "kernelspec": {
   "display_name": "Python (deep_learning)",
   "language": "python",
   "name": "deep_learning"
  },
  "language_info": {
   "codemirror_mode": {
    "name": "ipython",
    "version": 3
   },
   "file_extension": ".py",
   "mimetype": "text/x-python",
   "name": "python",
   "nbconvert_exporter": "python",
   "pygments_lexer": "ipython3",
   "version": "3.10.18"
  }
 },
 "nbformat": 4,
 "nbformat_minor": 5
}
